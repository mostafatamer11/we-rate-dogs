{
 "cells": [
  {
   "cell_type": "markdown",
   "metadata": {},
   "source": [
    "# We Rate Dogs Analysis\n"
   ]
  },
  {
   "cell_type": "markdown",
   "metadata": {},
   "source": [
    "## Introduction"
   ]
  },
  {
   "cell_type": "markdown",
   "metadata": {},
   "source": [
    "This report presents an analysis of the **_We Rate Dogs_** tweets dataset. The analysis aims to uncover insights about user engagement, such as how retweets and likes relate to tweet ratings, how ratings change over time, and the popularity of various nicknames used in the tweets."
   ]
  },
  {
   "cell_type": "markdown",
   "metadata": {},
   "source": [
    "\n",
    "## Questions"
   ]
  },
  {
   "cell_type": "markdown",
   "metadata": {},
   "source": [
    "1. How much do people retweet and like vs. the rating?\n",
    "2. How does time affect the likes?\n",
    "3. What is the most famous nickname?"
   ]
  },
  {
   "cell_type": "markdown",
   "metadata": {},
   "source": [
    "\n",
    "## Analysis"
   ]
  },
  {
   "cell_type": "markdown",
   "metadata": {},
   "source": [
    "\n",
    "### 1. Retweets and Likes vs. Rating Percentage"
   ]
  },
  {
   "cell_type": "markdown",
   "metadata": {},
   "source": [
    "Our scatter plot analysis reveals a notable correlation between the number of favorites (likes) and retweets with the rating percentage of tweets. The visual data suggests that tweets with higher ratings tend to receive more engagement in the form of likes and retweets. This relationship highlights the impact of rating on user interaction, indicating that well-rated tweets are likely to be more popular and shared.\n",
    "\n",
    "![Retweets and Favorites vs. Rating Percentage](./assets/scatter_plot.png)"
   ]
  },
  {
   "cell_type": "markdown",
   "metadata": {},
   "source": [
    "### 2. Effect of Time on Likes"
   ]
  },
  {
   "cell_type": "markdown",
   "metadata": {},
   "source": [
    "The line plot examining the average rating over time provides insight into how the popularity of tweets evolves. The data shows trends in how ratings fluctuate, which may reflect seasonal or contextual influences on user engagement. Understanding these trends helps in assessing whether certain periods lead to higher engagement and allows for strategic planning to maximize visibility during peak times.\n",
    "\n",
    "![Average Rating Over Time](./assets/time_vs_rating.png)"
   ]
  },
  {
   "cell_type": "markdown",
   "metadata": {},
   "source": [
    "### 3. Most Famous Nickname"
   ]
  },
  {
   "cell_type": "markdown",
   "metadata": {},
   "source": [
    "The bar chart analysis of nicknames used in tweets reveals that 'Pupper' is the most frequently used nickname among the dataset. Despite 'Floofer' being another popular option, it appears less common compared to 'Pupper'. This data provides insights into user preferences and trends in the types of nicknames that resonate more with the Twitter audience.\n",
    "\n",
    "![Frequency of Each Nickname](./assets/frequency.png)"
   ]
  },
  {
   "cell_type": "markdown",
   "metadata": {},
   "source": [
    "The analysis of the We Rate Dogs dataset shows that tweets with higher ratings get more likes and retweets. Ratings change over time, which might be due to seasonal effects. 'Pupper' is the most common nickname in the dataset."
   ]
  }
 ],
 "metadata": {
  "language_info": {
   "name": "python"
  }
 },
 "nbformat": 4,
 "nbformat_minor": 2
}
